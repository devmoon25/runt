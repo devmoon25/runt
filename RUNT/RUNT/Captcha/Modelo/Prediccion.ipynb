{
 "cells": [
  {
   "cell_type": "code",
   "execution_count": 1,
   "metadata": {},
   "outputs": [],
   "source": [
    "import os\n",
    "import numpy as np\n",
    "import matplotlib.pyplot as plt\n",
    "import cv2\n",
    "\n",
    "from pathlib import Path\n",
    "from collections import Counter\n",
    "\n",
    "import tensorflow as tf\n",
    "from tensorflow import keras\n",
    "from tensorflow.keras import layers"
   ]
  },
  {
   "cell_type": "code",
   "execution_count": 2,
   "metadata": {},
   "outputs": [],
   "source": [
    "class CTCLayer(layers.Layer):\n",
    "    def __init__(self, name=None):\n",
    "        super().__init__(name=name)\n",
    "        self.loss_fn = keras.backend.ctc_batch_cost"
   ]
  },
  {
   "cell_type": "code",
   "execution_count": 3,
   "metadata": {},
   "outputs": [],
   "source": [
    "# LEER MODELO \n",
    "nuevo_model = keras.models.load_model(r'C:\\Users\\jchinome\\OneDrive - Grupo Bancolombia\\Auditoria\\Automatizacion Querys\\Capcha\\Modelo\\path_to_my_model2.h5',custom_objects={'CTCLayer': CTCLayer})"
   ]
  },
  {
   "cell_type": "code",
   "execution_count": 4,
   "metadata": {},
   "outputs": [],
   "source": [
    "# DEFINIR LOS CARACTERES ( SON LOS MISMOS CARACTERES QUE LOS DEL ENTRENAMIENTO Y EN EL MISMO ORDEN)\n",
    "characters = ['2', '3', '4', '5', '6', '7', '8', 'a', 'b', 'c', 'd', 'e', 'f', 'g', 'h', 'k', 'm', 'n', 'p', 'r', 'w', 'x', 'y']"
   ]
  },
  {
   "cell_type": "code",
   "execution_count": 20,
   "metadata": {},
   "outputs": [],
   "source": [
    "# MAPEAR CARACTERES:\n",
    "\n",
    "# Mapear caracteres a números enteros\n",
    "char_to_num = layers.StringLookup(\n",
    "    vocabulary=list(characters), mask_token=None\n",
    ")\n",
    "\n",
    "# Mapear enteros a los caracteres originales\n",
    "num_to_char = layers.StringLookup(\n",
    "    vocabulary=char_to_num.get_vocabulary(), mask_token=None, invert=True\n",
    ")"
   ]
  },
  {
   "cell_type": "code",
   "execution_count": 21,
   "metadata": {},
   "outputs": [],
   "source": [
    "def encode_single_sample2(img):\n",
    "    # Se define las dimenciones de la imagen de entreda \n",
    "    img_width = 204\n",
    "    img_height = 53\n",
    "    # 2. Convertimos la imagen a escala de grices \n",
    "    img = np.reshape(img,(53, 204,1))\n",
    "    # 3. Convertimos a float32 en un rangi de [0,1]\n",
    "    img = tf.image.convert_image_dtype(img, tf.float32)\n",
    "    # 4. Resize para mantener el ancho y alto deseado.\n",
    "    img = tf.image.resize(img, [img_height, img_width])\n",
    "    # 5. Transponemos la imagen \n",
    "    img = tf.transpose(img, perm=[1, 0, 2])\n",
    "    return {\"image\": img}"
   ]
  },
  {
   "cell_type": "code",
   "execution_count": 22,
   "metadata": {},
   "outputs": [],
   "source": [
    "def decode_batch_predictions(pred):\n",
    "    input_len = np.ones(pred.shape[0]) * pred.shape[1]\n",
    "    results = keras.backend.ctc_decode(pred, input_length=input_len, greedy=True)[0][0][:, :5] # 5 Longitud del captcha a predecir.\n",
    "    output_text = []\n",
    "    for res in results:\n",
    "        res = tf.strings.reduce_join(num_to_char(res)).numpy().decode(\"utf-8\")\n",
    "        output_text.append(res)\n",
    "    return output_text"
   ]
  },
  {
   "cell_type": "code",
   "execution_count": 23,
   "metadata": {},
   "outputs": [],
   "source": [
    "prediction_model = keras.models.Model(nuevo_model.get_layer(name=\"image\").input, nuevo_model.get_layer(name=\"dense2\").output)"
   ]
  },
  {
   "cell_type": "code",
   "execution_count": 28,
   "metadata": {},
   "outputs": [
    {
     "data": {
      "text/plain": [
       "<matplotlib.image.AxesImage at 0x1c6d2ac25f0>"
      ]
     },
     "execution_count": 28,
     "metadata": {},
     "output_type": "execute_result"
    },
    {
     "data": {
      "image/png": "[encoded data removed]",
      "text/plain": [
       "<Figure size 640x480 with 1 Axes>"
      ]
     },
     "metadata": {},
     "output_type": "display_data"
    }
   ],
   "source": [
    "# LEEMOS IMAGEN DE PREDICCION DISTINTO A LOS DE ENTRENAMIENTO Y VALIDACION :\n",
    "\n",
    "data_dir_pred = Path(\"C:/Users/jchinome/Documents/ImagenesPrueba/prediccion/\")\n",
    "images_predict = sorted(list(map(str, list(data_dir_pred.glob(\"*.png\")))))\n",
    "\n",
    "imageno=plt.imread(images_predict[115])\n",
    "plt.imshow(imageno,cmap=\"gray\")"
   ]
  },
  {
   "cell_type": "code",
   "execution_count": 29,
   "metadata": {},
   "outputs": [
    {
     "name": "stdout",
     "output_type": "stream",
     "text": [
      "1/1 [==============================] - 0s 49ms/step\n"
     ]
    }
   ],
   "source": [
    "# TRANSFORMACION DE LA IMAGEN EN LA ENTRADA DE MODELO.\n",
    "pred_dataset=encode_single_sample2(imageno)\n",
    "batch_imagenes = pred_dataset[\"image\"]\n",
    "size_img=1\n",
    "batch_imagenes = np.reshape(batch_imagenes,(size_img,204, 53, 1))\n",
    "\n",
    "\n",
    "# MONTAMOS LA IMAGEN RESULTANTE EN EL MODELO DE PREDICCION.\n",
    "prediccion = prediction_model.predict(batch_imagenes)\n",
    "pred_texts_vv = decode_batch_predictions(prediccion)"
   ]
  },
  {
   "cell_type": "code",
   "execution_count": 30,
   "metadata": {},
   "outputs": [
    {
     "name": "stdout",
     "output_type": "stream",
     "text": [
      "['kxfrb']\n"
     ]
    }
   ],
   "source": [
    "print(pred_texts_vv)"
   ]
  }
 ],
 "metadata": {
  "kernelspec": {
   "display_name": "Python 3",
   "language": "python",
   "name": "python3"
  },
  "language_info": {
   "codemirror_mode": {
    "name": "ipython",
    "version": 3
   },
   "file_extension": ".py",
   "mimetype": "text/x-python",
   "name": "python",
   "nbconvert_exporter": "python",
   "pygments_lexer": "ipython3",
   "version": "3.10.1"
  },
  "orig_nbformat": 4
 },
 "nbformat": 4,
 "nbformat_minor": 2
}
